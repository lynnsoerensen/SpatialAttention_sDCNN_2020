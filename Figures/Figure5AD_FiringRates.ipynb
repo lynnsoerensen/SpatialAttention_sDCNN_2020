{
 "cells": [
  {
   "cell_type": "code",
   "execution_count": 1,
   "metadata": {
    "collapsed": true
   },
   "outputs": [],
   "source": [
    "%matplotlib inline\n",
    "import os\n",
    "import joblib\n",
    "import warnings\n",
    "warnings.filterwarnings('ignore')\n",
    "\n",
    "import matplotlib.pyplot as plt\n",
    "import seaborn as sns\n",
    "import numpy as np\n",
    "import pandas as pd\n",
    "from scipy.signal import gaussian\n",
    "from scipy.ndimage import filters\n",
    "\n",
    "from sklearn.utils import resample\n",
    "\n",
    "save = False\n",
    "\n",
    "cm = 1/2.54  # centimeters in inches\n",
    "sns.set_context('paper', rc={'font.size': 10, 'xtick.labelsize': 8, 'ytick.labelsize': 8,\n",
    "                          'figure.titleweight': 'bold', 'axes.labelsize':10, 'axes.titlesize':12})\n",
    "\n",
    "\n",
    "dir_path = os.path.abspath('')\n",
    "\n",
    "output_path = dir_path + '/Figures/'"
   ]
  },
  {
   "cell_type": "code",
   "execution_count": 2,
   "metadata": {},
   "outputs": [],
   "source": [
    "def smooth_response(response, filterWidth=8):\n",
    "    \"\"\"\n",
    "\n",
    "    :param response: Trials x Times\n",
    "    :param filterWidth: SD of Gaussian\n",
    "    :return: Smoothed response\n",
    "    \"\"\"\n",
    "    if len(response.shape) == 1:\n",
    "        response = response[np.newaxis, :]\n",
    "    gauss = gaussian(10 * filterWidth, filterWidth)\n",
    "    return filters.convolve1d(response, gauss / gauss.sum(), axis=1)\n"
   ]
  },
  {
   "cell_type": "code",
   "execution_count": 3,
   "metadata": {},
   "outputs": [],
   "source": [
    "tracker = joblib.load(dir_path + '/ModelAnalysis/FiringRates_readout.pkl')\n",
    "\n",
    "colors = sns.color_palette(sns.xkcd_palette([ \"orange yellow\",\"windows blue\", \"greyish\", \"faded green\", \"dusty purple\",\"orange\", \"grey\"]))"
   ]
  },
  {
   "cell_type": "code",
   "execution_count": 4,
   "metadata": {},
   "outputs": [],
   "source": [
    "offset = 0\n",
    "onset = 100\n",
    "features = 256 # 512\n",
    "time_steps = np.arange(-onset, tracker['neutral']['MUA'].shape[1] - onset) #np.arange(offset, tracker[25]['neutral']['MUA_centre'].shape[1])\n",
    "\n",
    "conds = ['precision','inputGain','outputGain']\n",
    "\n",
    "n = tracker['neutral']['MUA'].shape[0]\n",
    "\n",
    "num_draws = 500  \n",
    "\n",
    "np.random.seed(3)\n",
    "idx = np.arange(n)\n",
    "\n",
    "\n",
    "FR_avgs = pd.DataFrame(np.zeros((len(conds) * 3 * n,4)), columns=['Mechanism', 'Attention', 'Image','FR'])\n",
    "FR_avgs['Attention'] = np.repeat(np.arange(3)[np.newaxis,:],n *len(conds), axis=0).flatten()\n",
    "FR_avgs['Mechanism'] = np.repeat(np.arange(len(conds))[np.newaxis,:],n *3, axis=1).flatten()\n",
    "FR_avgs['Image'] = np.repeat(np.repeat(np.arange(n)[:,np.newaxis],3).flatten()[np.newaxis,:], len(conds), axis=0).flatten()\n",
    "\n",
    "\n",
    "replace_map = {'Attention': {0: 'valid', 1:'neutral', 2:'invalid'},\n",
    "               'Mechanism': {0: conds[0], 1: conds[1], 2: conds[2]}}\n",
    "FR_avgs.replace(replace_map, inplace=True)\n",
    "\n",
    "resp = tracker['neutral']['MUA'][:n, offset:]\n",
    "resp_gauss = smooth_response(resp)\n",
    "mean_draws_neutral = list()\n",
    "for d in range(num_draws):\n",
    "    # Resampling, with replacement, taking the class imbalance into account\n",
    "    draw = resample(idx, n_samples=n, random_state=d)\n",
    "    mean_draws_neutral.append(np.mean(resp_gauss[draw], axis=0))\n",
    "\n"
   ]
  },
  {
   "cell_type": "code",
   "execution_count": 5,
   "metadata": {},
   "outputs": [
    {
     "name": "stdout",
     "output_type": "stream",
     "text": [
      "precision\n"
     ]
    },
    {
     "name": "stdout",
     "output_type": "stream",
     "text": [
      "inputGain\n"
     ]
    },
    {
     "name": "stdout",
     "output_type": "stream",
     "text": [
      "outputGain\n"
     ]
    },
    {
     "data": {
      "image/png": "[encoded data removed]",
      "text/plain": [
       "<Figure size 382.677x141.732 with 3 Axes>"
      ]
     },
     "metadata": {},
     "output_type": "display_data"
    }
   ],
   "source": [
    "fig, ax = plt.subplots(1, 3, figsize=(13.5*cm, 5*cm), sharey=True, sharex=True)\n",
    "ax = ax.flatten()\n",
    "\n",
    "for c, cond in enumerate(conds):\n",
    "    for a, att in enumerate(['valid', 'invalid', 'neutral']):\n",
    "        if att == 'neutral':\n",
    "            \n",
    "            resp = tracker[att]['MUA'][:n, offset:]\n",
    "            resp_gauss = smooth_response(resp)\n",
    "            mean_draws = mean_draws_neutral\n",
    "        \n",
    "        else:\n",
    "           \n",
    "            resp = tracker[cond][att]['MUA'][:n, offset:]\n",
    "            resp_gauss = smooth_response(resp)\n",
    "\n",
    "            mean_draws = list()\n",
    "            for d in range(num_draws):\n",
    "                # Resampling, with replacement, taking the class imbalance into account\n",
    "                draw = resample(idx, n_samples=n, random_state=d)\n",
    "               \n",
    "                mean_draws.append(np.mean(resp_gauss[draw], axis=0))\n",
    "                \n",
    "        ax[c].plot(time_steps,np.mean(resp_gauss, axis=0), color=colors[a])\n",
    "        \n",
    "        ax[c].fill_between(time_steps, np.percentile(np.array(mean_draws), 2.5, axis=0),np.percentile(mean_draws, 97.5, axis=0),\n",
    "                           color=colors[a], alpha=0.4)\n",
    "\n",
    "        ax[c].set_ylim([0,1])\n",
    "\n",
    "    ax[0].set_ylabel('Spike count')\n",
    "    ax[0].set_xlabel('Time (ms)')\n",
    "    ax[0].set_title('Precision')\n",
    "    ax[0].set_yticks([0, 0.5, 1])\n",
    "\n",
    "    ax[1].set_title('Input gain')\n",
    "    ax[1].set_xlabel('Time (ms)')\n",
    "\n",
    "    ax[2].set_title('Connection gain')\n",
    "    ax[2].set_xlabel('Time (ms)')\n",
    "    \n",
    "    sns.despine()\n",
    "\n",
    "    print(cond)\n",
    "\n",
    "    FR_avgs.loc[(FR_avgs['Mechanism'] == cond) & (FR_avgs['Attention'] == 'valid'), 'FR' ] =((np.sum(\n",
    "        tracker[cond]['valid']['MUA'][:n,250:], axis=1))/features) * (1000 / 450)\n",
    "    FR_avgs.loc[(FR_avgs['Mechanism'] == cond) & (FR_avgs['Attention'] == 'invalid'), 'FR'] = ((np.sum(\n",
    "        tracker[cond]['invalid']['MUA'][:n, 250:], axis=1)) / features) * (1000 / 450)\n",
    "    FR_avgs.loc[(FR_avgs['Mechanism'] == cond) & (FR_avgs['Attention'] == 'neutral'), 'FR'] = ((np.sum(\n",
    "        tracker['neutral']['MUA'][:n, 250:], axis=1)) / features) * (1000 / 450)\n",
    "    \n",
    "plt.subplots_adjust(wspace=0.01, hspace=0.01)\n",
    "plt.tight_layout()\n",
    "if save == True:\n",
    "    fig.savefig( output_path + 'FiringRates_allConditions.pdf', dpi=300, transparent=True)\n",
    "else:\n",
    "    plt.show()\n",
    "\n"
   ]
  },
  {
   "cell_type": "code",
   "execution_count": 6,
   "metadata": {},
   "outputs": [
    {
     "data": {
      "image/png": "[encoded data removed]",
      "text/plain": [
       "<Figure size 192.756x113.386 with 1 Axes>"
      ]
     },
     "metadata": {},
     "output_type": "display_data"
    }
   ],
   "source": [
    "dodge = True\n",
    "capsize = 0.1\n",
    "aspect = 1.7 \n",
    "errwidth = 1.3  \n",
    "\n",
    "g = sns.catplot(y=\"Mechanism\", x=\"FR\", hue=\"Attention\", data=FR_avgs[FR_avgs['Attention'] != 'neutral'],\n",
    "                height=4 * cm, aspect=aspect, kind=\"point\",\n",
    "                palette={'valid': colors[0], 'invalid': colors[1], 'neutral': colors[2]},\n",
    "                legend=False, zorder=6, join=False, dodge=dodge,\n",
    "                capsize=capsize, errwidth=errwidth, orient='h')\n",
    "\n",
    "g.set_yticklabels(['Precision', 'Input gain', 'Connection\\ngain'])\n",
    "\n",
    "means = FR_avgs.groupby(['Attention']).mean()\n",
    "means = means.reset_index()\n",
    "mean = means.loc[means['Attention'] == 'neutral', 'FR'].values\n",
    "\n",
    "limits = np.array([1, 3.4])\n",
    "plt.xlim(limits)\n",
    "\n",
    "g.ax.set_xticks([1, 2, 3])\n",
    "g.ax.set_xlabel('Firing rate (Hz)')\n",
    "g.ax.set_ylabel(' ')\n",
    "g.ax.axvline(mean, c=colors[2], ls='--', zorder=0)\n",
    "\n",
    "plt.tight_layout()\n",
    "\n",
    "plt.axvspan(mean * 1.05, mean * 1.3, color=colors[2], alpha=0.3, zorder=0)\n",
    "plt.axvspan(mean * 0.7, mean * 0.95, color=colors[2], alpha=0.3, zorder=0)\n",
    "sns.despine(top=True, right=True)\n",
    "if save == True:\n",
    "    g.savefig(figure_path + 'FiringRates_' + mode + '.pdf', dpi=300, transparent=True)\n",
    "else:\n",
    "    plt.show()\n"
   ]
  },
  {
   "cell_type": "code",
   "execution_count": 7,
   "metadata": {},
   "outputs": [
    {
     "name": "stdout",
     "output_type": "stream",
     "text": [
      "precision\nvalid vs invalid\n"
     ]
    },
    {
     "name": "stdout",
     "output_type": "stream",
     "text": [
      "precision: 0.0\nvalid vs neutral\n"
     ]
    },
    {
     "name": "stdout",
     "output_type": "stream",
     "text": [
      "precision: 0.0006\ninvalid vs neutral\n"
     ]
    },
    {
     "name": "stdout",
     "output_type": "stream",
     "text": [
      "precision: 0.0\ninputGain\nvalid vs invalid\n"
     ]
    },
    {
     "ename": "KeyboardInterrupt",
     "evalue": "",
     "traceback": [
      "\u001b[0;31m---------------------------------------------------------------------------\u001b[0m",
      "\u001b[0;31mKeyboardInterrupt\u001b[0m                         Traceback (most recent call last)",
      "\u001b[0;32m<ipython-input-7-caef00dbc43f>\u001b[0m in \u001b[0;36m<module>\u001b[0;34m()\u001b[0m\n\u001b[1;32m     41\u001b[0m             \u001b[0;31m# Permutation loop:\u001b[0m\u001b[0;34m\u001b[0m\u001b[0;34m\u001b[0m\u001b[0m\n\u001b[1;32m     42\u001b[0m             \u001b[0;32mfor\u001b[0m \u001b[0mi\u001b[0m \u001b[0;32min\u001b[0m \u001b[0mrange\u001b[0m\u001b[0;34m(\u001b[0m\u001b[0;36m0\u001b[0m\u001b[0;34m,\u001b[0m \u001b[0mp\u001b[0m\u001b[0;34m)\u001b[0m\u001b[0;34m:\u001b[0m\u001b[0;34m\u001b[0m\u001b[0m\n\u001b[0;32m---> 43\u001b[0;31m                 \u001b[0mrandom\u001b[0m\u001b[0;34m.\u001b[0m\u001b[0mshuffle\u001b[0m\u001b[0;34m(\u001b[0m\u001b[0midx\u001b[0m\u001b[0;34m)\u001b[0m\u001b[0;34m\u001b[0m\u001b[0m\n\u001b[0m\u001b[1;32m     44\u001b[0m                 \u001b[0mpD\u001b[0m\u001b[0;34m.\u001b[0m\u001b[0mappend\u001b[0m\u001b[0;34m(\u001b[0m\u001b[0mnp\u001b[0m\u001b[0;34m.\u001b[0m\u001b[0mabs\u001b[0m\u001b[0;34m(\u001b[0m\u001b[0mnp\u001b[0m\u001b[0;34m.\u001b[0m\u001b[0mmean\u001b[0m\u001b[0;34m(\u001b[0m\u001b[0msamplePreds\u001b[0m\u001b[0;34m[\u001b[0m\u001b[0midx\u001b[0m\u001b[0;34m[\u001b[0m\u001b[0;34m:\u001b[0m\u001b[0mint\u001b[0m\u001b[0;34m(\u001b[0m\u001b[0mlen\u001b[0m\u001b[0;34m(\u001b[0m\u001b[0midx\u001b[0m\u001b[0;34m)\u001b[0m\u001b[0;34m//\u001b[0m\u001b[0;36m2\u001b[0m\u001b[0;34m)\u001b[0m\u001b[0;34m]\u001b[0m\u001b[0;34m]\u001b[0m\u001b[0;34m)\u001b[0m \u001b[0;34m-\u001b[0m \u001b[0mnp\u001b[0m\u001b[0;34m.\u001b[0m\u001b[0mmean\u001b[0m\u001b[0;34m(\u001b[0m\u001b[0msamplePreds\u001b[0m\u001b[0;34m[\u001b[0m\u001b[0midx\u001b[0m\u001b[0;34m[\u001b[0m\u001b[0mint\u001b[0m\u001b[0;34m(\u001b[0m\u001b[0mlen\u001b[0m\u001b[0;34m(\u001b[0m\u001b[0midx\u001b[0m\u001b[0;34m)\u001b[0m \u001b[0;34m//\u001b[0m \u001b[0;36m2\u001b[0m\u001b[0;34m)\u001b[0m\u001b[0;34m:\u001b[0m\u001b[0;34m]\u001b[0m\u001b[0;34m]\u001b[0m\u001b[0;34m)\u001b[0m\u001b[0;34m)\u001b[0m\u001b[0;34m)\u001b[0m\u001b[0;34m\u001b[0m\u001b[0m\n\u001b[1;32m     45\u001b[0m \u001b[0;34m\u001b[0m\u001b[0m\n",
      "\u001b[0;32m/Users/lynnsorensen/surfdrive/env_keras/lib/python3.6/random.py\u001b[0m in \u001b[0;36mshuffle\u001b[0;34m(self, x, random)\u001b[0m\n\u001b[1;32m    272\u001b[0m                 \u001b[0;31m# pick an element in x[:i+1] with which to exchange x[i]\u001b[0m\u001b[0;34m\u001b[0m\u001b[0;34m\u001b[0m\u001b[0m\n\u001b[1;32m    273\u001b[0m                 \u001b[0mj\u001b[0m \u001b[0;34m=\u001b[0m \u001b[0mrandbelow\u001b[0m\u001b[0;34m(\u001b[0m\u001b[0mi\u001b[0m\u001b[0;34m+\u001b[0m\u001b[0;36m1\u001b[0m\u001b[0;34m)\u001b[0m\u001b[0;34m\u001b[0m\u001b[0m\n\u001b[0;32m--> 274\u001b[0;31m                 \u001b[0mx\u001b[0m\u001b[0;34m[\u001b[0m\u001b[0mi\u001b[0m\u001b[0;34m]\u001b[0m\u001b[0;34m,\u001b[0m \u001b[0mx\u001b[0m\u001b[0;34m[\u001b[0m\u001b[0mj\u001b[0m\u001b[0;34m]\u001b[0m \u001b[0;34m=\u001b[0m \u001b[0mx\u001b[0m\u001b[0;34m[\u001b[0m\u001b[0mj\u001b[0m\u001b[0;34m]\u001b[0m\u001b[0;34m,\u001b[0m \u001b[0mx\u001b[0m\u001b[0;34m[\u001b[0m\u001b[0mi\u001b[0m\u001b[0;34m]\u001b[0m\u001b[0;34m\u001b[0m\u001b[0m\n\u001b[0m\u001b[1;32m    275\u001b[0m         \u001b[0;32melse\u001b[0m\u001b[0;34m:\u001b[0m\u001b[0;34m\u001b[0m\u001b[0m\n\u001b[1;32m    276\u001b[0m             \u001b[0m_int\u001b[0m \u001b[0;34m=\u001b[0m \u001b[0mint\u001b[0m\u001b[0;34m\u001b[0m\u001b[0m\n",
      "\u001b[0;31mKeyboardInterrupt\u001b[0m: "
     ],
     "output_type": "error"
    }
   ],
   "source": [
    "import random\n",
    "\n",
    "comps = ['valid vs invalid', 'valid vs neutral', 'invalid vs neutral']\n",
    "results = {}\n",
    "results_df = pd.DataFrame([], columns=['Mechanism', 'Comparison', 'Difference', 'p-values', 'significant'])\n",
    "\n",
    "# Define p (number of permutations):\n",
    "p = 10000\n",
    "\n",
    "results['Permutations'] = p\n",
    "results['alpha-level'] = 0.05 / len(comps)\n",
    "for cond in conds:\n",
    "    if cond not in results:\n",
    "        results[cond] = {}\n",
    "    print(cond)\n",
    "    validPreds = FR_avgs.loc[(FR_avgs['Mechanism']==cond) & (FR_avgs['Attention']=='valid'), 'FR'].values\n",
    "    invalidPreds = FR_avgs.loc[(FR_avgs['Mechanism']==cond) & (FR_avgs['Attention']=='invalid'), 'FR'].values\n",
    "    neutralPreds = FR_avgs.loc[(FR_avgs['Mechanism'] == cond) & (FR_avgs['Attention'] == 'neutral'), 'FR'].values\n",
    "\n",
    "    idx = np.arange(len(validPreds) * 2)\n",
    "    for comp in comps:\n",
    "        if comp not in results[cond]:\n",
    "            print(comp)\n",
    "            if comp == 'valid vs invalid':\n",
    "                diff = np.abs(np.mean(validPreds) - np.mean(invalidPreds))\n",
    "                samplePreds = np.concatenate([validPreds, invalidPreds], axis=0)\n",
    "            elif comp == 'valid vs neutral':\n",
    "                diff = np.abs(np.mean(validPreds) - np.mean(neutralPreds))\n",
    "\n",
    "                samplePreds = np.concatenate([validPreds, neutralPreds], axis=0)\n",
    "            elif comp == 'invalid vs neutral':\n",
    "                diff = np.abs(np.mean(invalidPreds) - np.mean(neutralPreds))\n",
    "\n",
    "                samplePreds = np.concatenate([invalidPreds, neutralPreds], axis=0)\n",
    "            else:\n",
    "                raise ValueError('Comparison is not specified.')\n",
    "\n",
    "            # Initialize permutation:\n",
    "            pD = []\n",
    "\n",
    "            # Permutation loop:\n",
    "            for i in range(0, p):\n",
    "                random.shuffle(idx)\n",
    "                pD.append(np.abs(np.mean(samplePreds[idx[:int(len(idx)//2)]]) - np.mean(samplePreds[idx[int(len(idx) // 2):]])))\n",
    "\n",
    "            p_val = len(np.where(pD>=diff)[0])/p\n",
    "            print(cond + ': ' + str(p_val))\n",
    "\n",
    "            results[cond][comp] = {}\n",
    "            results[cond][comp]['Observed difference'] = diff\n",
    "            results[cond][comp]['Difference distribution'] = pD\n",
    "            results[cond][comp]['p-value']= p_val\n",
    "\n",
    "            results_df = results_df.append({'Mechanism':cond, 'Comparison':comp, 'Difference':diff, 'p-values':p_val, 'significant':p_val<results['alpha-level']},ignore_index=True )\n",
    "\n",
    "\n",
    "joblib.dump(results,\n",
    "            dir_path + '/ModelEvaluation/FRPermutationTestsComparisons.pkl',\n",
    "            compress=True)\n",
    "results_df.to_csv(dir_path +'/ModelEvaluation/FRPermutationTestsComparisons_df.csv')\n",
    "\n"
   ]
  },
  {
   "cell_type": "code",
   "execution_count": null,
   "metadata": {},
   "outputs": [],
   "source": []
  }
 ],
 "metadata": {
  "kernelspec": {
   "display_name": "Python 2",
   "language": "python",
   "name": "python2"
  },
  "language_info": {
   "codemirror_mode": {
    "name": "ipython",
    "version": 2
   },
   "file_extension": ".py",
   "mimetype": "text/x-python",
   "name": "python",
   "nbconvert_exporter": "python",
   "pygments_lexer": "ipython2",
   "version": "2.7.6"
  }
 },
 "nbformat": 4,
 "nbformat_minor": 0
}
