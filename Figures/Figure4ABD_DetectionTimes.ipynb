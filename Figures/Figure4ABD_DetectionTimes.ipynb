{
 "cells": [
  {
   "cell_type": "code",
   "execution_count": 1,
   "metadata": {
    "collapsed": true
   },
   "outputs": [],
   "source": [
    "%matplotlib inline\n",
    "import os\n",
    "import joblib\n",
    "import warnings\n",
    "warnings.filterwarnings('ignore')\n",
    "\n",
    "import matplotlib.pyplot as plt\n",
    "import seaborn as sns\n",
    "import numpy as np\n",
    "import pandas as pd\n",
    "\n",
    "from sklearn.utils import resample\n",
    "\n",
    "save = False\n",
    "\n",
    "cm = 1/2.54  # centimeters in inches\n",
    "sns.set_context('paper', rc={'font.size': 10, 'xtick.labelsize': 8, 'ytick.labelsize': 8,\n",
    "                          'figure.titleweight': 'bold', 'axes.labelsize':10, 'axes.titlesize':12})\n",
    "\n",
    "\n",
    "dir_path = os.path.abspath('')\n",
    "\n",
    "output_path = dir_path + '/Figures/'"
   ]
  },
  {
   "cell_type": "code",
   "execution_count": 2,
   "metadata": {},
   "outputs": [],
   "source": [
    "def obtainTargetLatency(predictionTimecourse, y_true, offset=250):\n",
    "    target_idx = np.where(y_true==1)\n",
    "    latency = np.zeros(len(y_true))\n",
    "\n",
    "    for t in range(len(y_true)):\n",
    "        tps = np.where(predictionTimecourse[target_idx[0][t], offset:, target_idx[1][t]] >= 0.5)[0]\n",
    "        if len(tps) == 0:\n",
    "            latency[t] = np.nan\n",
    "        else:\n",
    "            latency[t] = np.min(tps) + offset\n",
    "    return latency\n"
   ]
  },
  {
   "cell_type": "code",
   "execution_count": 3,
   "metadata": {},
   "outputs": [],
   "source": [
    "colors = sns.color_palette(sns.xkcd_palette([ \"orange yellow\",\"windows blue\", \"greyish\", \"faded green\", \"dusty purple\",\"orange\", \"grey\"]))\n",
    "mechanisms = ['precision','inputGain', 'outputGain']\n",
    "\n",
    "tracker = {}\n",
    "for mechanism in mechanisms:\n",
    "    tracker[mechanism] = joblib.load(\n",
    "    dir_path + '/ModelEvaluation/Performance_' + mechanism + '.pkl')\n",
    "\n",
    "\n",
    "filename = dir_path + '/ModelEvaluation/RTs_bootstrap.pkl'\n",
    "\n",
    "num_draws =500\n",
    "size_draws = len(tracker['inputGain']['y_test_single'])\n",
    "np.random.seed(3)\n",
    "idx = np.arange(size_draws)\n",
    "\n",
    "\n",
    "RTs = pd.DataFrame(np.full((len(mechanisms) * 2 * size_draws,4), np.nan), columns=['Mechanism','Attention', 'Trial', 'RT'])\n",
    "\n",
    "RTs['Attention'] = np.repeat(np.arange(2)[np.newaxis,:], len(mechanisms) * size_draws, axis=0).flatten()\n",
    "RTs['Mechanism'] = np.repeat(np.arange(len(mechanisms))[np.newaxis,:],2 * size_draws, axis=1).flatten()\n",
    "RTs['Trial'] = np.repeat(np.repeat(np.arange(size_draws)[:, np.newaxis],2).flatten()[np.newaxis,:], len(mechanisms),axis=0).flatten()\n",
    "\n",
    "replace_map = {'Attention': {0: 'valid', 1: 'invalid'}, 'Mechanism': {0: mechanisms[0], 1: mechanisms[1], 2: mechanisms[2]}}\n",
    "RTs.replace(replace_map, inplace=True)\n",
    "\n",
    "onset = 100\n",
    "time_steps = np.arange(0, 650)\n",
    "target_idx = np.where(tracker['inputGain']['y_test_single'] == 1)\n",
    "non_target_idx =  np.where(tracker['inputGain']['y_test_single'] == 0)\n",
    "baseline = tracker['inputGain']['mf_0.45']['testSet']['predictions']\n"
   ]
  },
  {
   "cell_type": "code",
   "execution_count": 4,
   "metadata": {},
   "outputs": [
    {
     "data": {
      "image/png": "[encoded data removed]",
      "text/plain": [
       "<Figure size 382.677x141.732 with 3 Axes>"
      ]
     },
     "metadata": {},
     "output_type": "display_data"
    }
   ],
   "source": [
    "\n",
    "fig, ax = plt.subplots(1, 3, figsize=(13.5*cm, 5*cm), sharey=True, sharex=True)\n",
    "ax = ax.flatten()\n",
    "\n",
    "for m, mechanism in enumerate(mechanisms):\n",
    "    for a, att in enumerate(['valid', 'invalid']):\n",
    "        RTs.loc[(RTs['Mechanism'] == mechanism) & (RTs['Attention'] == att), 'RT'] = obtainTargetLatency(\n",
    "            tracker[mechanism]['attention_0.45']['testSet'][att]['predictions'], tracker['inputGain']['y_test_single'],\n",
    "            offset=tracker['inputGain']['start_eval'])\n",
    "\n",
    "        modulation = tracker[mechanism]['attention_0.45']['testSet'][att]['predictions'][:, onset:, :] - baseline[:, onset:,\n",
    "                                                                                         :]\n",
    "        # bootstrap the 95%CI for every time point\n",
    "        mean_draws_t = list()\n",
    "        mean_draws_o = list()\n",
    "        for d in range(num_draws):\n",
    "            # Resampling, with replacement, taking the class imbalance into account\n",
    "            draw = resample(idx, n_samples=size_draws, random_state=d, stratify=tracker['inputGain']['y_test_single'])\n",
    "            mean_draws_t.append(np.mean(modulation[target_idx[0][draw], :, target_idx[1][draw]], axis=0))\n",
    "            mean_draws_o.append(np.mean(modulation[non_target_idx[0][draw], :, non_target_idx[1][draw]], axis=0))\n",
    "\n",
    "        ax[m].axhline(0, color=colors[2])\n",
    "\n",
    "        ax[m].plot(time_steps, np.mean(modulation[target_idx[0], :, target_idx[1]], axis=0),\n",
    "                   color=colors[a])\n",
    "       \n",
    "        ax[m].fill_between(time_steps, np.percentile(mean_draws_t, 2.5, axis=0),\n",
    "                           np.percentile(mean_draws_t, 97.5, axis=0),\n",
    "                           color=colors[a], alpha=0.4)\n",
    "\n",
    "        ax[m].plot(time_steps, np.mean(modulation[non_target_idx[0], :, non_target_idx[1]], axis=0),\n",
    "                   color=colors[a],\n",
    "                   ls='--')\n",
    "        ax[m].fill_between(time_steps, np.percentile(mean_draws_o, 2.5, axis=0),\n",
    "                           np.percentile(mean_draws_o, 97.5, axis=0),\n",
    "                           color=colors[a], alpha=0.4)\n",
    "\n",
    "        sns.despine(ax=ax[m])\n",
    "    ax[0].set_ylabel('Prediction modulation')\n",
    "    ax[0].set_xlabel('Time (ms)')\n",
    "    ax[0].set_title('Precision')\n",
    "    ax[0].set_yticks([-0.05, 0, 0.05, 0.1])\n",
    "\n",
    "    ax[1].set_title('Input gain')\n",
    "    ax[1].set_xlabel('Time (ms)')\n",
    "\n",
    "    ax[2].set_title('Connection gain')\n",
    "    ax[2].set_xlabel('Time (ms)')\n",
    "\n",
    "\n",
    "plt.subplots_adjust(wspace=0.01, hspace=0.01)\n",
    "plt.tight_layout()\n",
    "if save == True:\n",
    "    fig.savefig(output_path + 'Modulation_allConditions.pdf', dpi=300, transparent=True)\n",
    "else:\n",
    "    plt.show()"
   ]
  },
  {
   "cell_type": "code",
   "execution_count": 6,
   "metadata": {},
   "outputs": [],
   "source": [
    "if not os.path.isfile(filename):\n",
    "    # Save the results\n",
    "    RTs.to_pickle(filename)\n",
    "    \n",
    "neutral_Latencies = obtainTargetLatency(\n",
    "            tracker['inputGain']['mf_0.45']['testSet']['predictions'], tracker['inputGain']['y_test_single'],\n",
    "            offset=tracker['inputGain']['start_eval'])\n",
    "\n"
   ]
  },
  {
   "cell_type": "code",
   "execution_count": 7,
   "metadata": {},
   "outputs": [
    {
     "name": "stdout",
     "output_type": "stream",
     "text": [
      "517\n481\n511\n"
     ]
    },
    {
     "name": "stdout",
     "output_type": "stream",
     "text": [
      "475\n525\n460\n"
     ]
    },
    {
     "data": {
      "image/png": "[encoded data removed]",
      "text/plain": [
       "<Figure size 382.677x141.732 with 3 Axes>"
      ]
     },
     "metadata": {},
     "output_type": "display_data"
    }
   ],
   "source": [
    "offset = 0\n",
    "onset = 100\n",
    "\n",
    "time_steps = np.arange(-onset, 750 - 100)\n",
    "\n",
    "fig, ax = plt.subplots(1, 3, figsize=(13.5*cm, 5*cm), sharey=True, sharex=True)\n",
    "ax = ax.flatten()\n",
    "\n",
    "for m, mechanism in enumerate(mechanisms):\n",
    "    for i, att in enumerate(['valid', 'invalid']):\n",
    "        print(np.sum(RTs.loc[(RTs['Mechanism'] == mechanism) & (RTs['Attention'] == att), 'RT'] > 0))\n",
    "        sns.distplot(RTs.loc[(RTs['Mechanism'] == mechanism) & (RTs['Attention'] == att), 'RT'] - 100, color=colors[i], ax=ax[m])\n",
    "        sns.despine(ax=ax[m])\n",
    "    sns.distplot(neutral_Latencies - 100, color=colors[2],\n",
    "                 ax=ax[m])\n",
    "\n",
    "ax[0].set_ylabel('Distributions')\n",
    "ax[0].set_xlabel('Detection time (ms)')\n",
    "ax[0].set_title('Precision')\n",
    "\n",
    "ax[1].set_title('Input gain')\n",
    "ax[1].set_xlabel('Detection time (ms)')\n",
    "\n",
    "ax[2].set_title('Connection gain')\n",
    "ax[2].set_xlabel('Detection time (ms)')\n",
    "\n",
    "\n",
    "plt.subplots_adjust(wspace=0.01,hspace=0.01)\n",
    "plt.tight_layout()\n",
    "if save == True:\n",
    "    fig.savefig(output_path + 'DetectionTimes_allConditions_neutral.pdf', dpi=300, transparent=True)\n",
    "else:\n",
    "    plt.show()"
   ]
  },
  {
   "cell_type": "code",
   "execution_count": 8,
   "metadata": {},
   "outputs": [
    {
     "data": {
      "image/png": "[encoded data removed]",
      "text/plain": [
       "<Figure size 215.433x113.386 with 1 Axes>"
      ]
     },
     "metadata": {},
     "output_type": "display_data"
    }
   ],
   "source": [
    "medians = RTs.groupby(['Mechanism', 'Attention'])['RT'].median() - 100\n",
    "\n",
    "RTs['RT_onset'] = RTs['RT'] - onset\n",
    "\n",
    "dodge = True\n",
    "capsize = 0.1\n",
    "aspect = 1.9\n",
    "errwidth = 1.3\n",
    "\n",
    "g = sns.catplot(y=\"Mechanism\", x=\"RT_onset\", hue=\"Attention\", data=RTs,\n",
    "                height=4 * cm, aspect=aspect, kind=\"point\",\n",
    "                palette={'valid': colors[0], 'invalid': colors[1], 'neutral': colors[2]},\n",
    "                legend=False, estimator=np.median, zorder=6, order=mechanisms, join=False, dodge=dodge,\n",
    "                capsize=capsize, errwidth=errwidth, orient='h')\n",
    "\n",
    "g.set_yticklabels([' ', ' ', ' \\n ', ' \\n ', ' ',\n",
    "                   ' \\n ', '  \\n '])\n",
    "\n",
    "mean = np.nanmedian(neutral_Latencies) - onset\n",
    "\n",
    "limits = np.array([230, 300])\n",
    "plt.xlim(limits)\n",
    "g.ax.set_xlabel('Detection time (ms)')\n",
    "g.ax.set_ylabel(' ')\n",
    "g.ax.set_xticks([250, 275, 300])\n",
    "\n",
    "g.ax.axvline(mean, c=colors[2], ls='--', zorder=0)\n",
    "\n",
    "sns.despine(top=True, right=True)\n",
    "if save == True:\n",
    "    g.savefig(output_path + 'DetectionTimes_' + mode + '.pdf', dpi=300, transparent=True)\n",
    "else:\n",
    "    plt.show()\n"
   ]
  },
  {
   "cell_type": "code",
   "execution_count": null,
   "metadata": {},
   "outputs": [],
   "source": [
    "import random\n",
    "conds = ['precision', 'inputGain', 'outputGain']\n",
    "comps = ['valid vs invalid', 'valid vs neutral', 'invalid vs neutral']\n",
    "results = {}\n",
    "results_df = pd.DataFrame([], columns=['Mechanism', 'Comparison', 'Difference', 'p-values', 'significant'])\n",
    "neutralRTs = obtainTargetLatency(\n",
    "    tracker['inputGain']['mf_0.45']['testSet']['predictions'], tracker['inputGain']['y_test_single'],\n",
    "    offset=tracker['inputGain']['start_eval'])\n",
    "\n",
    "idx = np.arange(len(neutralRTs)*2)\n",
    "# Define p (number of permutations):\n",
    "p = 10000\n",
    "\n",
    "\n",
    "results['Permutations'] = p\n",
    "results['alpha-level'] = 0.05 / len(comps)\n",
    "for cond in conds:\n",
    "    if cond not in results:\n",
    "        results[cond] = {}\n",
    "    print(cond)\n",
    "    validRTs = RTs.loc[(RTs['Mechanism'] == cond) & (RTs['Attention'] == 'valid'), 'RT']\n",
    "\n",
    "    invalidRTs = RTs.loc[(RTs['Mechanism'] == cond) & (RTs['Attention'] == 'invalid'), 'RT']\n",
    "\n",
    "    for comp in comps:\n",
    "        if comp not in results[cond]:\n",
    "            print(comp)\n",
    "            if comp == 'valid vs invalid':\n",
    "                diff = np.abs(np.nanmedian(validRTs) - np.nanmedian(invalidRTs))\n",
    "                samplePreds = np.concatenate([validRTs, invalidRTs], axis=0)\n",
    "            elif comp == 'valid vs neutral':\n",
    "                diff = np.abs(np.nanmedian(validRTs) - np.nanmedian(neutralRTs))\n",
    "\n",
    "                samplePreds = np.concatenate([validRTs, neutralRTs], axis=0)\n",
    "            elif comp == 'invalid vs neutral':\n",
    "                diff = np.abs(np.nanmedian(invalidRTs) - np.nanmedian(neutralRTs))\n",
    "                samplePreds = np.concatenate([invalidRTs, neutralRTs], axis=0)\n",
    "\n",
    "            else:\n",
    "                raise ValueError('Comparison is not specified.')\n",
    "\n",
    "            # Initialize permutation:\n",
    "            pD = []\n",
    "\n",
    "            # Permutation loop:\n",
    "            for i in range(0, p):\n",
    "                random.shuffle(idx)\n",
    "                pD.append(np.abs(np.nanmedian(samplePreds[idx[:int(len(idx)//2)]]) - np.nanmedian(samplePreds[idx[int(len(idx)//2):]])))\n",
    "\n",
    "\n",
    "            p_val = len(np.where(pD>=diff)[0])/p\n",
    "            print(cond + ': ' + str(p_val))\n",
    "\n",
    "            results[cond][comp] = {}\n",
    "            results[cond][comp]['Observed difference'] = diff\n",
    "            results[cond][comp]['Difference distribution'] = pD\n",
    "            results[cond][comp]['p-value']= p_val\n",
    "\n",
    "            results_df = results_df.append(\n",
    "                {'Mechanism': cond, 'Comparison': comp, 'Difference': diff, 'p-values': p_val,\n",
    "                 'significant': p_val < results['alpha-level']}, ignore_index=True)\n",
    "\n",
    "joblib.dump(results,\n",
    "            dir_path + '/ModelEvaluation/RT_PermutationTestsComparisons.pkl',\n",
    "            compress=True)\n",
    "results_df.to_csv(dir_path + '/ModelEvaluation/RT_PermutationTestsComparisons_df.csv')\n"
   ]
  }
 ],
 "metadata": {
  "kernelspec": {
   "display_name": "Python 2",
   "language": "python",
   "name": "python2"
  },
  "language_info": {
   "codemirror_mode": {
    "name": "ipython",
    "version": 2
   },
   "file_extension": ".py",
   "mimetype": "text/x-python",
   "name": "python",
   "nbconvert_exporter": "python",
   "pygments_lexer": "ipython2",
   "version": "2.7.6"
  }
 },
 "nbformat": 4,
 "nbformat_minor": 0
}
