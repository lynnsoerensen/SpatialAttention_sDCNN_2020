{
 "cells": [
  {
   "cell_type": "code",
   "execution_count": 1,
   "metadata": {
    "collapsed": true
   },
   "outputs": [],
   "source": [
    "%matplotlib inline\n",
    "import os\n",
    "import joblib\n",
    "import warnings\n",
    "warnings.filterwarnings('ignore')\n",
    "\n",
    "import matplotlib.pyplot as plt\n",
    "import seaborn as sns\n",
    "import numpy as np\n",
    "import pandas as pd\n",
    "from scipy.signal import gaussian, find_peaks\n",
    "from scipy.ndimage import filters\n",
    "\n",
    "from sklearn.utils import resample\n",
    "\n",
    "save = False\n",
    "\n",
    "cm = 1/2.54  # centimeters in inches\n",
    "sns.set_context('paper', rc={'font.size': 10, 'xtick.labelsize': 8, 'ytick.labelsize': 8,\n",
    "                          'figure.titleweight': 'bold', 'axes.labelsize':10, 'axes.titlesize':12})\n",
    "\n",
    "\n",
    "dir_path = os.path.abspath('')\n",
    "\n",
    "output_path = dir_path + '/Figures/'"
   ]
  },
  {
   "cell_type": "code",
   "execution_count": 2,
   "metadata": {},
   "outputs": [],
   "source": [
    "def smooth_response(response, filterWidth=8):\n",
    "    \"\"\"\n",
    "\n",
    "    :param response: Trials x Times\n",
    "    :param filterWidth: SD of Gaussian\n",
    "    :return: Smoothed response\n",
    "    \"\"\"\n",
    "    if len(response.shape) == 1:\n",
    "        response = response[np.newaxis, :]\n",
    "    gauss = gaussian(10 * filterWidth, filterWidth)\n",
    "    return filters.convolve1d(response, gauss / gauss.sum(), axis=1)\n",
    "\n",
    "\n",
    "def estimateLatency(data, data_baseline, start_eval=145, filterWidth=8, prestimulus_correct=True):\n",
    "    \"\"\"\n",
    "\n",
    "    :param resp: Spike counts, images x times\n",
    "    :param image_onset: sample when the image started\n",
    "    :param start_eval: sample from which to start estimating the latency\n",
    "    :param filterWidth: SD of gaussian for smoothing\n",
    "    :param baseline_period: Time to estimate the response variability during no stimulation\n",
    "    :return: Latencies and local maxima per image.\n",
    "    \"\"\"\n",
    "   \n",
    "    # Smooth with gaussian of 8 ms\n",
    "    data = smooth_response(np.array(data, dtype=float), filterWidth=filterWidth)\n",
    "\n",
    "    \n",
    "    # Determine the SEM in the baseline period across all images, This is different from Sundberg et al..\n",
    "    if prestimulus_correct == True:\n",
    "        #data_baseline = data_baseline - np.mean(data_baseline[:, 50:100], axis=1)[:,np.newaxis]\n",
    "        data = data - np.mean(data[:, 50:100], axis=1)[:, np.newaxis]\n",
    "\n",
    "    latencies = np.full(len(data), np.nan)\n",
    "    local_maxima = np.full(len(data), np.nan)\n",
    "    for i in range(len(data)):\n",
    "        \n",
    "        data_baseline_t = smooth_response(np.array(data_baseline[i].T, dtype=float), filterWidth=filterWidth)\n",
    "        if prestimulus_correct == True:\n",
    "            data_baseline_t = data_baseline_t - np.mean(data_baseline_t[:, 50:100], axis=1)[:, np.newaxis]\n",
    "\n",
    "        # define the criterion\n",
    "        \n",
    "        mean_baseline = np.mean(data_baseline_t[:,start_eval:])\n",
    "        criterion = np.percentile(data_baseline_t[:,start_eval:].flatten(), (1 - 0.0001)*100)\n",
    "        \n",
    "\n",
    "        # Find all peaks\n",
    "        l_id, peaks = find_peaks(data[i, start_eval:], height=criterion)\n",
    "\n",
    "        # Find the mid-point\n",
    "        if len(l_id) > 0:\n",
    "            l_id = l_id + start_eval  # bring back to the original time\n",
    "\n",
    "            midpoint = (peaks['peak_heights'][0] - mean_baseline) * 0.5 + mean_baseline\n",
    "            # Find zero-crossing\n",
    "            crossings = np.intersect1d((np.where((data[i, start_eval:l_id[0]] - midpoint) >= 0)[0]),\n",
    "                                  (np.where((data[i, start_eval:l_id[0]] - midpoint) < 0)[0] + 1))\n",
    "            if len(crossings) > 0:\n",
    "                latencies[i] = crossings[-1] + start_eval\n",
    "           \n",
    "            local_maxima[i] = l_id[0]\n",
    "\n",
    "        else:\n",
    "            pass\n",
    "            #print(str(i) + ': No local minima identified.')\n",
    "\n",
    "        \n",
    "    return latencies, local_maxima\n"
   ]
  },
  {
   "cell_type": "code",
   "execution_count": 3,
   "metadata": {},
   "outputs": [],
   "source": [
    "tracker = joblib.load(dir_path + '/ModelAnalysis/FiringRates_readout.pkl')\n",
    "\n",
    "colors = sns.color_palette(sns.xkcd_palette([ \"orange yellow\",\"windows blue\", \"greyish\", \"faded green\", \"dusty purple\",\"orange\", \"grey\"]))"
   ]
  },
  {
   "cell_type": "code",
   "execution_count": 4,
   "metadata": {},
   "outputs": [],
   "source": [
    "offset = 0\n",
    "onset = 100\n",
    "l = 25\n",
    "time_steps = np.arange(-onset, tracker['neutral']['MUA'].shape[1] - onset) \n",
    "n = tracker['neutral']['MUA'].shape[0]\n",
    "\n",
    "conds = ['precision', 'inputGain', 'outputGain']\n",
    "start_eval = 100\n",
    "\n",
    "latencies = pd.DataFrame(np.full((len(conds) * 2 * n, 5), np.nan),\n",
    "                       columns=['Mechanism', 'Attention', 'Trial', 'Latency', 'Peak'])\n",
    "\n",
    "latencies['Attention'] = np.repeat(np.arange(2)[np.newaxis, :], len(conds) * n, axis=0).flatten()\n",
    "latencies['Mechanism'] = np.repeat(np.arange(len(conds))[np.newaxis, :], 2 * n, axis=1).flatten()\n",
    "latencies['Trial'] = np.repeat(np.repeat(np.arange(n)[:,np.newaxis],2).flatten()[np.newaxis,:], len(conds), axis=0).flatten()\n",
    "\n",
    "\n",
    "replace_map = {'Attention': {0: 'valid', 1:'invalid'},\n",
    "               'Mechanism': {0: conds[0], 1: conds[1], 2: conds[2]}}\n",
    "\n",
    "latencies.replace(replace_map, inplace=True)\n",
    "\n",
    "\n",
    "latencies_n, local_maxima_n = estimateLatency(tracker['neutral']['MUA'][:n],\n",
    "                                                      tracker['neutral']['MUA_baseline_average'][:, :,\n",
    "                                                      tracker['locations'][:, 0], tracker['locations'][:, 1]].T,\n",
    "                                                      start_eval=start_eval)\n",
    "latencies_n[latencies_n <= start_eval] = np.nan\n",
    "local_maxima_n[latencies_n <= start_eval] = np.nan\n"
   ]
  },
  {
   "cell_type": "code",
   "execution_count": 5,
   "metadata": {},
   "outputs": [
    {
     "data": {
      "image/png": "[encoded data removed]",
      "text/plain": [
       "<Figure size 411.024x141.732 with 3 Axes>"
      ]
     },
     "metadata": {},
     "output_type": "display_data"
    }
   ],
   "source": [
    "fig, ax = plt.subplots(1, 3, figsize=(14.5*cm, 5*cm), sharey=True, sharex=True)\n",
    "ax = ax.flatten()\n",
    "\n",
    "for c, cond in enumerate(conds):\n",
    "\n",
    "    latencies_v, local_maxima_v = estimateLatency(tracker[cond]['valid']['MUA'][:n],\n",
    "                                                  tracker[cond]['valid']['MUA_baseline_average'][:, :,\n",
    "                                                  tracker['locations'][:, 0], tracker['locations'][:, 1]].T,\n",
    "                                                  start_eval=start_eval)\n",
    "    # filter out the pre-stimulus responses\n",
    "    latencies_v[latencies_v <= start_eval] = np.nan\n",
    "    local_maxima_v[latencies_v <= start_eval] = np.nan\n",
    "\n",
    "    latencies_i, local_maxima_i = estimateLatency(tracker[cond]['invalid']['MUA'][:n],\n",
    "                                                  tracker[cond]['invalid']['MUA_baseline_average'][:, :,\n",
    "                                                  tracker['locations'][:, 0], tracker['locations'][:, 1]].T,\n",
    "                                                  start_eval=start_eval)\n",
    "    latencies_i[latencies_i <= start_eval] = np.nan\n",
    "    local_maxima_i[latencies_i <= start_eval] = np.nan\n",
    "\n",
    "    sns.distplot(latencies_v - onset, color=colors[0], label='valid', ax=ax[c])\n",
    "    sns.distplot(latencies_i - onset, color=colors[1], label='invalid', ax=ax[c])\n",
    "    sns.distplot(latencies_n - onset, color=colors[2], label='neutral', ax=ax[c])\n",
    "\n",
    "    latencies.loc[(latencies['Mechanism'] == cond) & (latencies['Attention'] == 'valid'), 'Latency'] = latencies_v\n",
    "    latencies.loc[(latencies['Mechanism'] == cond) & (latencies['Attention'] == 'invalid'), 'Latency'] = latencies_i\n",
    "    # latencies.loc[(latencies['Mechanism'] == cond) & (latencies['Attention'] == 'neutral'), 'Latency'] = latencies_n\n",
    "\n",
    "    latencies.loc[(latencies['Mechanism'] == cond) & (latencies['Attention'] == 'valid'), 'Peak'] = local_maxima_v\n",
    "    latencies.loc[(latencies['Mechanism'] == cond) & (latencies['Attention'] == 'invalid'), 'Peak'] = local_maxima_i\n",
    "   \n",
    "    ax[c].set_xlim([-50, 500])\n",
    "    ax[c].set_xticks([0, 250, 500])\n",
    "    sns.despine(ax=ax[c])\n",
    "\n",
    "\n",
    "ax[0].set_ylabel('KDE')\n",
    "ax[0].set_xlabel('Latency (ms)')\n",
    "ax[0].set_title('Precision')\n",
    "\n",
    "\n",
    "ax[1].set_title('Input gain')\n",
    "ax[1].set_xlabel('Latency (ms)')\n",
    "\n",
    "ax[2].set_title('Connection gain')\n",
    "ax[2].set_xlabel('Latency (ms)')\n",
    "\n",
    "sns.despine()\n",
    "\n",
    "\n",
    "plt.subplots_adjust(wspace=0.01,hspace=0.01)\n",
    "plt.tight_layout()\n",
    "if save == True:\n",
    "    fig.savefig(output_path + 'Latencies_allConditions_neutral.pdf', dpi=300, transparent=True)\n",
    "else:\n",
    "    plt.show()\n"
   ]
  },
  {
   "cell_type": "code",
   "execution_count": null,
   "metadata": {},
   "outputs": [],
   "source": [
    "medians = latencies.groupby(['Mechanism', 'Attention'])['Latency'].median() - 100\n",
    "print(medians)\n",
    "latencies['Missing'] = latencies['Latency'].isna()\n",
    "\n",
    "print(latencies.groupby(['Mechanism', 'Attention'])['Missing'].sum())\n",
    "\n",
    "latencies['Latency'] = latencies['Latency'] - onset"
   ]
  },
  {
   "cell_type": "code",
   "execution_count": 7,
   "metadata": {},
   "outputs": [
    {
     "name": "stdout",
     "output_type": "stream",
     "text": [
      "Mechanism   Attention\ninputGain   invalid      123.0\n            valid         93.0\noutputGain  invalid      123.0\n            valid         82.0\nprecision   invalid      125.0\n            valid        115.0\nName: Latency, dtype: float64\nMechanism   Attention\ninputGain   invalid       96.0\n            valid         34.0\noutputGain  invalid       96.0\n            valid         25.0\nprecision   invalid      112.0\n            valid         55.0\nName: Missing, dtype: float64\n"
     ]
    },
    {
     "data": {
      "image/png": "[encoded data removed]",
      "text/plain": [
       "<Figure size 192.756x113.386 with 1 Axes>"
      ]
     },
     "metadata": {},
     "output_type": "display_data"
    }
   ],
   "source": [
    "\n",
    "dodge = True\n",
    "capsize = 0.1\n",
    "aspect = 1.7  \n",
    "errwidth = 1.3  \n",
    "\n",
    "g = sns.catplot(y=\"Mechanism\", x=\"Latency\", hue=\"Attention\", data=latencies[latencies['Attention'] != 'neutral'],\n",
    "                height=4 * cm, aspect=aspect, kind=\"point\",\n",
    "                palette={'valid': colors[0], 'invalid': colors[1], 'neutral': colors[2]},\n",
    "                legend=False, zorder=6, estimator=np.median, join=False, dodge=dodge,\n",
    "                capsize=capsize, errwidth=errwidth, orient='h')\n",
    "\n",
    "g.set_yticklabels(['Precision', 'Input gain', 'Connection\\ngain'])\n",
    "\n",
    "mean = np.nanmedian(latencies_n) - onset\n",
    "\n",
    "g.ax.set_xticks([80, 100, 120, 140])\n",
    "g.ax.set_xlabel('Latency')\n",
    "g.ax.set_ylabel(' ')\n",
    "g.ax.axvline(mean, c=colors[2], ls='--', zorder=0)\n",
    "\n",
    "plt.tight_layout()\n",
    "\n",
    "sns.despine(top=True, right=True)\n",
    "if save == True:\n",
    "    g.savefig(output_path + 'Latencies_' + mode + '.pdf', dpi=300, transparent=True)\n",
    "else:\n",
    "    plt.show()\n"
   ]
  },
  {
   "cell_type": "code",
   "execution_count": 7,
   "metadata": {},
   "outputs": [
    {
     "name": "stdout",
     "output_type": "stream",
     "text": [
      "precision\nvalid vs invalid\n"
     ]
    },
    {
     "name": "stdout",
     "output_type": "stream",
     "text": [
      "precision: 0.0\nvalid vs neutral\n"
     ]
    },
    {
     "name": "stdout",
     "output_type": "stream",
     "text": [
      "precision: 0.0006\ninvalid vs neutral\n"
     ]
    },
    {
     "name": "stdout",
     "output_type": "stream",
     "text": [
      "precision: 0.0\ninputGain\nvalid vs invalid\n"
     ]
    },
    {
     "ename": "KeyboardInterrupt",
     "evalue": "",
     "traceback": [
      "\u001b[0;31m---------------------------------------------------------------------------\u001b[0m",
      "\u001b[0;31mKeyboardInterrupt\u001b[0m                         Traceback (most recent call last)",
      "\u001b[0;32m<ipython-input-7-caef00dbc43f>\u001b[0m in \u001b[0;36m<module>\u001b[0;34m()\u001b[0m\n\u001b[1;32m     41\u001b[0m             \u001b[0;31m# Permutation loop:\u001b[0m\u001b[0;34m\u001b[0m\u001b[0;34m\u001b[0m\u001b[0m\n\u001b[1;32m     42\u001b[0m             \u001b[0;32mfor\u001b[0m \u001b[0mi\u001b[0m \u001b[0;32min\u001b[0m \u001b[0mrange\u001b[0m\u001b[0;34m(\u001b[0m\u001b[0;36m0\u001b[0m\u001b[0;34m,\u001b[0m \u001b[0mp\u001b[0m\u001b[0;34m)\u001b[0m\u001b[0;34m:\u001b[0m\u001b[0;34m\u001b[0m\u001b[0m\n\u001b[0;32m---> 43\u001b[0;31m                 \u001b[0mrandom\u001b[0m\u001b[0;34m.\u001b[0m\u001b[0mshuffle\u001b[0m\u001b[0;34m(\u001b[0m\u001b[0midx\u001b[0m\u001b[0;34m)\u001b[0m\u001b[0;34m\u001b[0m\u001b[0m\n\u001b[0m\u001b[1;32m     44\u001b[0m                 \u001b[0mpD\u001b[0m\u001b[0;34m.\u001b[0m\u001b[0mappend\u001b[0m\u001b[0;34m(\u001b[0m\u001b[0mnp\u001b[0m\u001b[0;34m.\u001b[0m\u001b[0mabs\u001b[0m\u001b[0;34m(\u001b[0m\u001b[0mnp\u001b[0m\u001b[0;34m.\u001b[0m\u001b[0mmean\u001b[0m\u001b[0;34m(\u001b[0m\u001b[0msamplePreds\u001b[0m\u001b[0;34m[\u001b[0m\u001b[0midx\u001b[0m\u001b[0;34m[\u001b[0m\u001b[0;34m:\u001b[0m\u001b[0mint\u001b[0m\u001b[0;34m(\u001b[0m\u001b[0mlen\u001b[0m\u001b[0;34m(\u001b[0m\u001b[0midx\u001b[0m\u001b[0;34m)\u001b[0m\u001b[0;34m//\u001b[0m\u001b[0;36m2\u001b[0m\u001b[0;34m)\u001b[0m\u001b[0;34m]\u001b[0m\u001b[0;34m]\u001b[0m\u001b[0;34m)\u001b[0m \u001b[0;34m-\u001b[0m \u001b[0mnp\u001b[0m\u001b[0;34m.\u001b[0m\u001b[0mmean\u001b[0m\u001b[0;34m(\u001b[0m\u001b[0msamplePreds\u001b[0m\u001b[0;34m[\u001b[0m\u001b[0midx\u001b[0m\u001b[0;34m[\u001b[0m\u001b[0mint\u001b[0m\u001b[0;34m(\u001b[0m\u001b[0mlen\u001b[0m\u001b[0;34m(\u001b[0m\u001b[0midx\u001b[0m\u001b[0;34m)\u001b[0m \u001b[0;34m//\u001b[0m \u001b[0;36m2\u001b[0m\u001b[0;34m)\u001b[0m\u001b[0;34m:\u001b[0m\u001b[0;34m]\u001b[0m\u001b[0;34m]\u001b[0m\u001b[0;34m)\u001b[0m\u001b[0;34m)\u001b[0m\u001b[0;34m)\u001b[0m\u001b[0;34m\u001b[0m\u001b[0m\n\u001b[1;32m     45\u001b[0m \u001b[0;34m\u001b[0m\u001b[0m\n",
      "\u001b[0;32m/Users/lynnsorensen/surfdrive/env_keras/lib/python3.6/random.py\u001b[0m in \u001b[0;36mshuffle\u001b[0;34m(self, x, random)\u001b[0m\n\u001b[1;32m    272\u001b[0m                 \u001b[0;31m# pick an element in x[:i+1] with which to exchange x[i]\u001b[0m\u001b[0;34m\u001b[0m\u001b[0;34m\u001b[0m\u001b[0m\n\u001b[1;32m    273\u001b[0m                 \u001b[0mj\u001b[0m \u001b[0;34m=\u001b[0m \u001b[0mrandbelow\u001b[0m\u001b[0;34m(\u001b[0m\u001b[0mi\u001b[0m\u001b[0;34m+\u001b[0m\u001b[0;36m1\u001b[0m\u001b[0;34m)\u001b[0m\u001b[0;34m\u001b[0m\u001b[0m\n\u001b[0;32m--> 274\u001b[0;31m                 \u001b[0mx\u001b[0m\u001b[0;34m[\u001b[0m\u001b[0mi\u001b[0m\u001b[0;34m]\u001b[0m\u001b[0;34m,\u001b[0m \u001b[0mx\u001b[0m\u001b[0;34m[\u001b[0m\u001b[0mj\u001b[0m\u001b[0;34m]\u001b[0m \u001b[0;34m=\u001b[0m \u001b[0mx\u001b[0m\u001b[0;34m[\u001b[0m\u001b[0mj\u001b[0m\u001b[0;34m]\u001b[0m\u001b[0;34m,\u001b[0m \u001b[0mx\u001b[0m\u001b[0;34m[\u001b[0m\u001b[0mi\u001b[0m\u001b[0;34m]\u001b[0m\u001b[0;34m\u001b[0m\u001b[0m\n\u001b[0m\u001b[1;32m    275\u001b[0m         \u001b[0;32melse\u001b[0m\u001b[0;34m:\u001b[0m\u001b[0;34m\u001b[0m\u001b[0m\n\u001b[1;32m    276\u001b[0m             \u001b[0m_int\u001b[0m \u001b[0;34m=\u001b[0m \u001b[0mint\u001b[0m\u001b[0;34m\u001b[0m\u001b[0m\n",
      "\u001b[0;31mKeyboardInterrupt\u001b[0m: "
     ],
     "output_type": "error"
    }
   ],
   "source": [
    "import random\n",
    "\n",
    "comps = ['valid vs invalid','invalid vs neutral', 'valid vs neutral']\n",
    "results = {}\n",
    "results_df = pd.DataFrame([], columns=['Mechanism', 'Comparison', 'Difference', 'p-values', 'significant'])\n",
    "\n",
    "# Define p (number of permutations):\n",
    "p = 10000\n",
    "\n",
    "results['Permutations'] = p\n",
    "results['alpha-level'] = 0.05 / len(comps)\n",
    "\n",
    "neutralPreds = latencies_n - onset\n",
    "for cond in conds:\n",
    "    if cond not in results:\n",
    "        results[cond] = {}\n",
    "    print(cond)\n",
    "    validPreds = latencies.loc[(latencies['Mechanism']==cond) & (latencies['Attention']=='valid'), 'Latency'].values\n",
    "    invalidPreds = latencies.loc[(latencies['Mechanism']==cond) & (latencies['Attention']=='invalid'), 'Latency'].values\n",
    "    idx = np.arange(len(validPreds) * 2)\n",
    "    for comp in comps:\n",
    "        if comp not in results[cond]:\n",
    "            print(comp)\n",
    "            if comp == 'valid vs invalid':\n",
    "                diff = np.abs(np.nanmedian(validPreds) - np.nanmedian(invalidPreds))\n",
    "                samplePreds = np.concatenate([validPreds, invalidPreds], axis=0)\n",
    "            elif comp == 'valid vs neutral':\n",
    "                diff = np.abs(np.nanmedian(neutralPreds) - np.nanmedian(validPreds))\n",
    "                samplePreds = np.concatenate([validPreds, neutralPreds], axis=0)\n",
    "            elif comp == 'invalid vs neutral':\n",
    "                diff = np.abs(np.nanmedian(neutralPreds) - np.nanmedian(invalidPreds))\n",
    "                samplePreds = np.concatenate([invalidPreds, neutralPreds], axis=0)\n",
    "\n",
    "            else:\n",
    "                raise ValueError('Comparison is not specified.')\n",
    "\n",
    "            # Initialize permutation:\n",
    "            pD = []\n",
    "\n",
    "            # Permutation loop:\n",
    "            for i in range(0, p):\n",
    "                random.shuffle(idx)\n",
    "                pD.append(np.abs(np.nanmedian(samplePreds[idx[:int(len(idx)//2)]]) - np.nanmedian(samplePreds[idx[int(len(idx) // 2):]])))\n",
    "\n",
    "            p_val = len(np.where(pD>=diff)[0])/p\n",
    "            print(cond + ': ' + str(p_val))\n",
    "\n",
    "            results[cond][comp] = {}\n",
    "            results[cond][comp]['Observed difference'] = diff\n",
    "            results[cond][comp]['Difference distribution'] = pD\n",
    "            results[cond][comp]['p-value']= p_val\n",
    "\n",
    "            results_df = results_df.append({'Mechanism':cond, 'Comparison':comp, 'Difference':diff, 'p-values':p_val, 'significant':p_val<results['alpha-level']},ignore_index=True )\n",
    "\n",
    "\n",
    "joblib.dump(results,\n",
    "            dir_path + '/ModelAnalysis/LatencyPermutationTestsComparisons.pkl',\n",
    "            compress=True)\n",
    "results_df.to_csv(dir_path + '/ModelAnalysis/LatencyPermutationTestsComparisons_df.csv')\n"
   ]
  },
  {
   "cell_type": "code",
   "execution_count": null,
   "metadata": {},
   "outputs": [],
   "source": []
  }
 ],
 "metadata": {
  "kernelspec": {
   "display_name": "Python 2",
   "language": "python",
   "name": "python2"
  },
  "language_info": {
   "codemirror_mode": {
    "name": "ipython",
    "version": 2
   },
   "file_extension": ".py",
   "mimetype": "text/x-python",
   "name": "python",
   "nbconvert_exporter": "python",
   "pygments_lexer": "ipython2",
   "version": "2.7.6"
  }
 },
 "nbformat": 4,
 "nbformat_minor": 0
}
